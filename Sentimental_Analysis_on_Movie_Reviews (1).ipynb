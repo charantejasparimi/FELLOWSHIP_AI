{
  "nbformat": 4,
  "nbformat_minor": 0,
  "metadata": {
    "colab": {
      "provenance": []
    },
    "kernelspec": {
      "name": "python3",
      "display_name": "Python 3"
    },
    "language_info": {
      "name": "python"
    }
  },
  "cells": [
    {
      "cell_type": "code",
      "source": [
        "from google.colab import drive\n",
        "drive.mount('/content/drive')"
      ],
      "metadata": {
        "colab": {
          "base_uri": "https://localhost:8080/"
        },
        "id": "MZHXy4j_M5_h",
        "outputId": "2ca645d0-071d-4071-d67f-f763ee9d5b84"
      },
      "execution_count": null,
      "outputs": [
        {
          "output_type": "stream",
          "name": "stdout",
          "text": [
            "Mounted at /content/drive\n"
          ]
        }
      ]
    },
    {
      "cell_type": "markdown",
      "source": [
        "***IMPORTED LIBRARIES***"
      ],
      "metadata": {
        "id": "qpTxFmBVOTQW"
      }
    },
    {
      "cell_type": "code",
      "source": [
        "#Load the libraries\n",
        "import numpy as np\n",
        "import pandas as pd\n",
        "import seaborn as sns\n",
        "import matplotlib.pyplot as plt"
      ],
      "metadata": {
        "id": "XeqRCD4JNIyb"
      },
      "execution_count": null,
      "outputs": []
    },
    {
      "cell_type": "markdown",
      "source": [
        "***CREATION OF DATA FRAME***"
      ],
      "metadata": {
        "id": "9GlQACRQOo4D"
      }
    },
    {
      "cell_type": "code",
      "source": [
        "df=pd.read_csv(\"/content/drive/MyDrive/Datasets ML/IMDB Dataset.csv\");"
      ],
      "metadata": {
        "id": "SvkYzdp1NO-o"
      },
      "execution_count": 106,
      "outputs": []
    },
    {
      "cell_type": "markdown",
      "source": [
        "***EDA ON DATA SET***"
      ],
      "metadata": {
        "id": "tAOOXT-QO-Zc"
      }
    },
    {
      "cell_type": "code",
      "source": [
        "df.columns"
      ],
      "metadata": {
        "colab": {
          "base_uri": "https://localhost:8080/"
        },
        "id": "OwUWMueUD8vS",
        "outputId": "b6500492-42f4-476c-b000-8aae66e8fdb3"
      },
      "execution_count": null,
      "outputs": [
        {
          "output_type": "execute_result",
          "data": {
            "text/plain": [
              "Index(['review', 'sentiment'], dtype='object')"
            ]
          },
          "metadata": {},
          "execution_count": 105
        }
      ]
    },
    {
      "cell_type": "code",
      "source": [
        "df.describe()"
      ],
      "metadata": {
        "colab": {
          "base_uri": "https://localhost:8080/",
          "height": 175
        },
        "id": "pzQKHltEFY0-",
        "outputId": "855adfcc-ec13-47df-8684-afa5b9e37608"
      },
      "execution_count": 108,
      "outputs": [
        {
          "output_type": "execute_result",
          "data": {
            "text/plain": [
              "                                                   review sentiment\n",
              "count                                               50000     50000\n",
              "unique                                              49582         2\n",
              "top     Loved today's show!!! It was a variety and not...  positive\n",
              "freq                                                    5     25000"
            ],
            "text/html": [
              "\n",
              "  <div id=\"df-fddbcad4-17b0-40a9-a1d9-e60df3e6df56\">\n",
              "    <div class=\"colab-df-container\">\n",
              "      <div>\n",
              "<style scoped>\n",
              "    .dataframe tbody tr th:only-of-type {\n",
              "        vertical-align: middle;\n",
              "    }\n",
              "\n",
              "    .dataframe tbody tr th {\n",
              "        vertical-align: top;\n",
              "    }\n",
              "\n",
              "    .dataframe thead th {\n",
              "        text-align: right;\n",
              "    }\n",
              "</style>\n",
              "<table border=\"1\" class=\"dataframe\">\n",
              "  <thead>\n",
              "    <tr style=\"text-align: right;\">\n",
              "      <th></th>\n",
              "      <th>review</th>\n",
              "      <th>sentiment</th>\n",
              "    </tr>\n",
              "  </thead>\n",
              "  <tbody>\n",
              "    <tr>\n",
              "      <th>count</th>\n",
              "      <td>50000</td>\n",
              "      <td>50000</td>\n",
              "    </tr>\n",
              "    <tr>\n",
              "      <th>unique</th>\n",
              "      <td>49582</td>\n",
              "      <td>2</td>\n",
              "    </tr>\n",
              "    <tr>\n",
              "      <th>top</th>\n",
              "      <td>Loved today's show!!! It was a variety and not...</td>\n",
              "      <td>positive</td>\n",
              "    </tr>\n",
              "    <tr>\n",
              "      <th>freq</th>\n",
              "      <td>5</td>\n",
              "      <td>25000</td>\n",
              "    </tr>\n",
              "  </tbody>\n",
              "</table>\n",
              "</div>\n",
              "      <button class=\"colab-df-convert\" onclick=\"convertToInteractive('df-fddbcad4-17b0-40a9-a1d9-e60df3e6df56')\"\n",
              "              title=\"Convert this dataframe to an interactive table.\"\n",
              "              style=\"display:none;\">\n",
              "        \n",
              "  <svg xmlns=\"http://www.w3.org/2000/svg\" height=\"24px\"viewBox=\"0 0 24 24\"\n",
              "       width=\"24px\">\n",
              "    <path d=\"M0 0h24v24H0V0z\" fill=\"none\"/>\n",
              "    <path d=\"M18.56 5.44l.94 2.06.94-2.06 2.06-.94-2.06-.94-.94-2.06-.94 2.06-2.06.94zm-11 1L8.5 8.5l.94-2.06 2.06-.94-2.06-.94L8.5 2.5l-.94 2.06-2.06.94zm10 10l.94 2.06.94-2.06 2.06-.94-2.06-.94-.94-2.06-.94 2.06-2.06.94z\"/><path d=\"M17.41 7.96l-1.37-1.37c-.4-.4-.92-.59-1.43-.59-.52 0-1.04.2-1.43.59L10.3 9.45l-7.72 7.72c-.78.78-.78 2.05 0 2.83L4 21.41c.39.39.9.59 1.41.59.51 0 1.02-.2 1.41-.59l7.78-7.78 2.81-2.81c.8-.78.8-2.07 0-2.86zM5.41 20L4 18.59l7.72-7.72 1.47 1.35L5.41 20z\"/>\n",
              "  </svg>\n",
              "      </button>\n",
              "      \n",
              "  <style>\n",
              "    .colab-df-container {\n",
              "      display:flex;\n",
              "      flex-wrap:wrap;\n",
              "      gap: 12px;\n",
              "    }\n",
              "\n",
              "    .colab-df-convert {\n",
              "      background-color: #E8F0FE;\n",
              "      border: none;\n",
              "      border-radius: 50%;\n",
              "      cursor: pointer;\n",
              "      display: none;\n",
              "      fill: #1967D2;\n",
              "      height: 32px;\n",
              "      padding: 0 0 0 0;\n",
              "      width: 32px;\n",
              "    }\n",
              "\n",
              "    .colab-df-convert:hover {\n",
              "      background-color: #E2EBFA;\n",
              "      box-shadow: 0px 1px 2px rgba(60, 64, 67, 0.3), 0px 1px 3px 1px rgba(60, 64, 67, 0.15);\n",
              "      fill: #174EA6;\n",
              "    }\n",
              "\n",
              "    [theme=dark] .colab-df-convert {\n",
              "      background-color: #3B4455;\n",
              "      fill: #D2E3FC;\n",
              "    }\n",
              "\n",
              "    [theme=dark] .colab-df-convert:hover {\n",
              "      background-color: #434B5C;\n",
              "      box-shadow: 0px 1px 3px 1px rgba(0, 0, 0, 0.15);\n",
              "      filter: drop-shadow(0px 1px 2px rgba(0, 0, 0, 0.3));\n",
              "      fill: #FFFFFF;\n",
              "    }\n",
              "  </style>\n",
              "\n",
              "      <script>\n",
              "        const buttonEl =\n",
              "          document.querySelector('#df-fddbcad4-17b0-40a9-a1d9-e60df3e6df56 button.colab-df-convert');\n",
              "        buttonEl.style.display =\n",
              "          google.colab.kernel.accessAllowed ? 'block' : 'none';\n",
              "\n",
              "        async function convertToInteractive(key) {\n",
              "          const element = document.querySelector('#df-fddbcad4-17b0-40a9-a1d9-e60df3e6df56');\n",
              "          const dataTable =\n",
              "            await google.colab.kernel.invokeFunction('convertToInteractive',\n",
              "                                                     [key], {});\n",
              "          if (!dataTable) return;\n",
              "\n",
              "          const docLinkHtml = 'Like what you see? Visit the ' +\n",
              "            '<a target=\"_blank\" href=https://colab.research.google.com/notebooks/data_table.ipynb>data table notebook</a>'\n",
              "            + ' to learn more about interactive tables.';\n",
              "          element.innerHTML = '';\n",
              "          dataTable['output_type'] = 'display_data';\n",
              "          await google.colab.output.renderOutput(dataTable, element);\n",
              "          const docLink = document.createElement('div');\n",
              "          docLink.innerHTML = docLinkHtml;\n",
              "          element.appendChild(docLink);\n",
              "        }\n",
              "      </script>\n",
              "    </div>\n",
              "  </div>\n",
              "  "
            ]
          },
          "metadata": {},
          "execution_count": 108
        }
      ]
    },
    {
      "cell_type": "code",
      "source": [
        "sns.countplot(x='sentiment',data=df)\n"
      ],
      "metadata": {
        "colab": {
          "base_uri": "https://localhost:8080/",
          "height": 466
        },
        "id": "gIlhGNo9DFMD",
        "outputId": "e0488e11-2b55-428d-8a12-e5406566e1e4"
      },
      "execution_count": 107,
      "outputs": [
        {
          "output_type": "execute_result",
          "data": {
            "text/plain": [
              "<Axes: xlabel='sentiment', ylabel='count'>"
            ]
          },
          "metadata": {},
          "execution_count": 107
        },
        {
          "output_type": "display_data",
          "data": {
            "text/plain": [
              "<Figure size 640x480 with 1 Axes>"
            ],
            "image/png": "[encoded data removed]"
          },
          "metadata": {}
        }
      ]
    },
    {
      "cell_type": "code",
      "source": [
        "df['sentiment'].value_counts()\n"
      ],
      "metadata": {
        "colab": {
          "base_uri": "https://localhost:8080/"
        },
        "id": "UrO0H9rjIH-J",
        "outputId": "81e46e99-bfd4-4254-ecf5-c59c527a02cb"
      },
      "execution_count": 109,
      "outputs": [
        {
          "output_type": "execute_result",
          "data": {
            "text/plain": [
              "positive    25000\n",
              "negative    25000\n",
              "Name: sentiment, dtype: int64"
            ]
          },
          "metadata": {},
          "execution_count": 109
        }
      ]
    },
    {
      "cell_type": "code",
      "source": [
        "df.info"
      ],
      "metadata": {
        "colab": {
          "base_uri": "https://localhost:8080/"
        },
        "id": "EySufEU8DvgK",
        "outputId": "e6a1b12b-fe35-4d95-eec6-5f3c80104b89"
      },
      "execution_count": 110,
      "outputs": [
        {
          "output_type": "execute_result",
          "data": {
            "text/plain": [
              "<bound method DataFrame.info of                                                   review sentiment\n",
              "0      One of the other reviewers has mentioned that ...  positive\n",
              "1      A wonderful little production. <br /><br />The...  positive\n",
              "2      I thought this was a wonderful way to spend ti...  positive\n",
              "3      Basically there's a family where a little boy ...  negative\n",
              "4      Petter Mattei's \"Love in the Time of Money\" is...  positive\n",
              "...                                                  ...       ...\n",
              "49995  I thought this movie did a down right good job...  positive\n",
              "49996  Bad plot, bad dialogue, bad acting, idiotic di...  negative\n",
              "49997  I am a Catholic taught in parochial elementary...  negative\n",
              "49998  I'm going to have to disagree with the previou...  negative\n",
              "49999  No one expects the Star Trek movies to be high...  negative\n",
              "\n",
              "[50000 rows x 2 columns]>"
            ]
          },
          "metadata": {},
          "execution_count": 110
        }
      ]
    },
    {
      "cell_type": "code",
      "source": [
        "df['review'][1]"
      ],
      "metadata": {
        "colab": {
          "base_uri": "https://localhost:8080/",
          "height": 122
        },
        "id": "p9o64C7607PR",
        "outputId": "79f95b26-800a-4adf-fac3-4bca104fae11"
      },
      "execution_count": 111,
      "outputs": [
        {
          "output_type": "execute_result",
          "data": {
            "text/plain": [
              "'A wonderful little production. <br /><br />The filming technique is very unassuming- very old-time-BBC fashion and gives a comforting, and sometimes discomforting, sense of realism to the entire piece. <br /><br />The actors are extremely well chosen- Michael Sheen not only \"has got all the polari\" but he has all the voices down pat too! You can truly see the seamless editing guided by the references to Williams\\' diary entries, not only is it well worth the watching but it is a terrificly written and performed piece. A masterful production about one of the great master\\'s of comedy and his life. <br /><br />The realism really comes home with the little things: the fantasy of the guard which, rather than use the traditional \\'dream\\' techniques remains solid then disappears. It plays on our knowledge and our senses, particularly with the scenes concerning Orton and Halliwell and the sets (particularly of their flat with Halliwell\\'s murals decorating every surface) are terribly well done.'"
            ],
            "application/vnd.google.colaboratory.intrinsic+json": {
              "type": "string"
            }
          },
          "metadata": {},
          "execution_count": 111
        }
      ]
    },
    {
      "cell_type": "markdown",
      "source": [
        "***DATA CLEANING ON MOVIE REVIEW DATA SET***"
      ],
      "metadata": {
        "id": "ggx2qUoGyo1o"
      }
    },
    {
      "cell_type": "code",
      "source": [
        "import re\n",
        "def remove(str):\n",
        "  str=re.compile(r'<[^>]+>').sub(\"\",str)\n",
        "  return str"
      ],
      "metadata": {
        "id": "J9bddEvbsfTr"
      },
      "execution_count": 112,
      "outputs": []
    },
    {
      "cell_type": "markdown",
      "source": [
        "TO REMOVE HTML TAGS AND SYMBOLS"
      ],
      "metadata": {
        "id": "UkgYmwPPff0l"
      }
    },
    {
      "cell_type": "code",
      "source": [
        "j=0\n",
        "for i in df[\"review\"]:\n",
        "  st=remove(i)\n",
        "  st=st.replace(\"\\'\",\"\")\n",
        "  df[\"review\"][j]=st.upper()\n",
        "  j+=1"
      ],
      "metadata": {
        "id": "HvusJd-zPz0-"
      },
      "execution_count": 113,
      "outputs": []
    },
    {
      "cell_type": "code",
      "source": [
        "df['review'][1]"
      ],
      "metadata": {
        "colab": {
          "base_uri": "https://localhost:8080/",
          "height": 122
        },
        "id": "rmfS6d9ewlHV",
        "outputId": "ff5636f5-34c1-4bb4-be4e-3d16ff149ab4"
      },
      "execution_count": 114,
      "outputs": [
        {
          "output_type": "execute_result",
          "data": {
            "text/plain": [
              "'A WONDERFUL LITTLE PRODUCTION. THE FILMING TECHNIQUE IS VERY UNASSUMING- VERY OLD-TIME-BBC FASHION AND GIVES A COMFORTING, AND SOMETIMES DISCOMFORTING, SENSE OF REALISM TO THE ENTIRE PIECE. THE ACTORS ARE EXTREMELY WELL CHOSEN- MICHAEL SHEEN NOT ONLY \"HAS GOT ALL THE POLARI\" BUT HE HAS ALL THE VOICES DOWN PAT TOO! YOU CAN TRULY SEE THE SEAMLESS EDITING GUIDED BY THE REFERENCES TO WILLIAMS DIARY ENTRIES, NOT ONLY IS IT WELL WORTH THE WATCHING BUT IT IS A TERRIFICLY WRITTEN AND PERFORMED PIECE. A MASTERFUL PRODUCTION ABOUT ONE OF THE GREAT MASTERS OF COMEDY AND HIS LIFE. THE REALISM REALLY COMES HOME WITH THE LITTLE THINGS: THE FANTASY OF THE GUARD WHICH, RATHER THAN USE THE TRADITIONAL DREAM TECHNIQUES REMAINS SOLID THEN DISAPPEARS. IT PLAYS ON OUR KNOWLEDGE AND OUR SENSES, PARTICULARLY WITH THE SCENES CONCERNING ORTON AND HALLIWELL AND THE SETS (PARTICULARLY OF THEIR FLAT WITH HALLIWELLS MURALS DECORATING EVERY SURFACE) ARE TERRIBLY WELL DONE.'"
            ],
            "application/vnd.google.colaboratory.intrinsic+json": {
              "type": "string"
            }
          },
          "metadata": {},
          "execution_count": 114
        }
      ]
    },
    {
      "cell_type": "code",
      "source": [
        "import nltk\n",
        "nltk.download('stopwords')\n",
        "from nltk.corpus import stopwords\n",
        "en_stops = set(stopwords.words('english'))\n",
        "print(en_stops)"
      ],
      "metadata": {
        "colab": {
          "base_uri": "https://localhost:8080/"
        },
        "id": "90DmIzyjJAQd",
        "outputId": "f523b6cf-f9bb-42eb-b342-18c64e798fd5"
      },
      "execution_count": 115,
      "outputs": [
        {
          "output_type": "stream",
          "name": "stdout",
          "text": [
            "{'a', 'down', 'up', \"shouldn't\", \"couldn't\", 'while', 'in', 'by', 'there', \"it's\", 'be', 'so', \"should've\", 'did', 'didn', 'below', 've', 'because', 'you', 'no', 'or', 'during', 'ours', 'o', 'it', \"didn't\", 'i', 'been', 'into', 'how', 'after', 'both', \"wouldn't\", \"doesn't\", 'most', 're', 'needn', 't', 'her', 'their', 'between', 'the', \"don't\", 'for', 'has', 'as', 'doesn', 'each', 'other', 'which', \"aren't\", 'do', 'ourselves', 'against', 'they', 'll', 'very', 'had', 'was', 'isn', 'just', 'not', 'itself', 'and', 'on', \"wasn't\", \"isn't\", 'myself', 'this', 'm', \"she's\", 'she', 'can', 'few', \"hadn't\", \"you've\", 'doing', 'about', 'hadn', \"weren't\", \"won't\", 'off', 'will', 'himself', 'only', 'mightn', 'those', 'shan', 'same', \"needn't\", 'its', 'out', 'before', 'd', 'themselves', 'to', 'why', 'hasn', \"mustn't\", 'yourselves', 'our', \"you're\", 'his', 'are', 'until', 'where', 'am', 'couldn', 'don', 'but', 'won', 'own', 'mustn', 'yourself', 'nor', 'my', \"shan't\", 'from', 'shouldn', 'have', 'were', 'more', 'that', 'an', 'above', 'all', 'y', 'having', 'than', 'should', 'wasn', 'at', 'whom', 'haven', 'once', 'such', 'too', \"you'd\", 'here', 'of', \"hasn't\", 'ma', 'when', 'me', 'being', 'he', 'aren', 'wouldn', 'again', 's', \"haven't\", 'if', 'your', 'who', 'does', 'ain', 'we', 'under', \"that'll\", 'some', 'is', 'with', 'him', \"mightn't\", 'now', 'herself', 'what', 'through', \"you'll\", 'yours', 'theirs', 'these', 'them', 'over', 'any', 'weren', 'hers', 'further', 'then'}\n"
          ]
        },
        {
          "output_type": "stream",
          "name": "stderr",
          "text": [
            "[nltk_data] Downloading package stopwords to /root/nltk_data...\n",
            "[nltk_data]   Package stopwords is already up-to-date!\n"
          ]
        }
      ]
    },
    {
      "cell_type": "code",
      "source": [
        "for i in range(0,len(df)):\n",
        "   words=df['review'][i].split()\n",
        "   k=''\n",
        "   for r in words:\n",
        "     if r not in en_stops:\n",
        "       k+=r\n",
        "       k+=' '\n",
        "       df['review'][i]=k"
      ],
      "metadata": {
        "id": "TyLqf1FLOLpp"
      },
      "execution_count": 130,
      "outputs": []
    },
    {
      "cell_type": "code",
      "source": [
        "df['review'][1]"
      ],
      "metadata": {
        "colab": {
          "base_uri": "https://localhost:8080/",
          "height": 122
        },
        "id": "VAOy6U9UvpWJ",
        "outputId": "17cb15e5-e4c0-442e-f3dc-e6b943afed02"
      },
      "execution_count": 131,
      "outputs": [
        {
          "output_type": "execute_result",
          "data": {
            "text/plain": [
              "'A WONDERFUL LITTLE PRODUCTION THE FILMING TECHNIQUE IS VERY UNASSUMING VERY OLD TIME BBC FASHION AND GIVES A COMFORTING AND SOMETIMES DISCOMFORTING SENSE OF REALISM TO THE ENTIRE PIECE THE ACTORS ARE EXTREMELY WELL CHOSEN MICHAEL SHEEN NOT ONLY HAS GOT ALL THE POLARI BUT HE HAS ALL THE VOICES DOWN PAT TOO YOU CAN TRULY SEE THE SEAMLESS EDITING GUIDED BY THE REFERENCES TO WILLIAMS DIARY ENTRIES NOT ONLY IS IT WELL WORTH THE WATCHING BUT IT IS A TERRIFICLY WRITTEN AND PERFORMED PIECE A MASTERFUL PRODUCTION ABOUT ONE OF THE GREAT MASTERS OF COMEDY AND HIS LIFE THE REALISM REALLY COMES HOME WITH THE LITTLE THINGS THE FANTASY OF THE GUARD WHICH RATHER THAN USE THE TRADITIONAL DREAM TECHNIQUES REMAINS SOLID THEN DISAPPEARS IT PLAYS ON OUR KNOWLEDGE AND OUR SENSES PARTICULARLY WITH THE SCENES CONCERNING ORTON AND HALLIWELL AND THE SETS PARTICULARLY OF THEIR FLAT WITH HALLIWELLS MURALS DECORATING EVERY SURFACE ARE TERRIBLY WELL DONE '"
            ],
            "application/vnd.google.colaboratory.intrinsic+json": {
              "type": "string"
            }
          },
          "metadata": {},
          "execution_count": 131
        }
      ]
    },
    {
      "cell_type": "code",
      "source": [
        "for i in range(0,len(df)):\n",
        "    review = re.sub('[^a-zA-Z]',' ',df['review'][i])\n",
        "    df['review'][i]=review"
      ],
      "metadata": {
        "id": "KT7yk6MsuvRM"
      },
      "execution_count": 118,
      "outputs": []
    },
    {
      "cell_type": "code",
      "source": [
        "df['review'][1]"
      ],
      "metadata": {
        "colab": {
          "base_uri": "https://localhost:8080/",
          "height": 122
        },
        "id": "A8KEg0epyVOJ",
        "outputId": "2b3618ca-3395-45c6-9b59-5f2886f1fd89"
      },
      "execution_count": 119,
      "outputs": [
        {
          "output_type": "execute_result",
          "data": {
            "text/plain": [
              "'A WONDERFUL LITTLE PRODUCTION  THE FILMING TECHNIQUE IS VERY UNASSUMING  VERY OLD TIME BBC FASHION AND GIVES A COMFORTING  AND SOMETIMES DISCOMFORTING  SENSE OF REALISM TO THE ENTIRE PIECE  THE ACTORS ARE EXTREMELY WELL CHOSEN  MICHAEL SHEEN NOT ONLY  HAS GOT ALL THE POLARI  BUT HE HAS ALL THE VOICES DOWN PAT TOO  YOU CAN TRULY SEE THE SEAMLESS EDITING GUIDED BY THE REFERENCES TO WILLIAMS DIARY ENTRIES  NOT ONLY IS IT WELL WORTH THE WATCHING BUT IT IS A TERRIFICLY WRITTEN AND PERFORMED PIECE  A MASTERFUL PRODUCTION ABOUT ONE OF THE GREAT MASTERS OF COMEDY AND HIS LIFE  THE REALISM REALLY COMES HOME WITH THE LITTLE THINGS  THE FANTASY OF THE GUARD WHICH  RATHER THAN USE THE TRADITIONAL DREAM TECHNIQUES REMAINS SOLID THEN DISAPPEARS  IT PLAYS ON OUR KNOWLEDGE AND OUR SENSES  PARTICULARLY WITH THE SCENES CONCERNING ORTON AND HALLIWELL AND THE SETS  PARTICULARLY OF THEIR FLAT WITH HALLIWELLS MURALS DECORATING EVERY SURFACE  ARE TERRIBLY WELL DONE  '"
            ],
            "application/vnd.google.colaboratory.intrinsic+json": {
              "type": "string"
            }
          },
          "metadata": {},
          "execution_count": 119
        }
      ]
    },
    {
      "cell_type": "markdown",
      "source": [
        "***Model Selection and Evaluation***"
      ],
      "metadata": {
        "id": "frycrrps23o_"
      }
    },
    {
      "cell_type": "code",
      "source": [
        "from sklearn.linear_model import LogisticRegression\n",
        "from sklearn.model_selection import train_test_split\n",
        "from sklearn.metrics import precision_recall_fscore_support\n",
        "from sklearn.feature_extraction.text import CountVectorizer\n",
        "from nltk.tokenize import RegexpTokenizer\n",
        "from sklearn.naive_bayes import MultinomialNB\n",
        "from sklearn.ensemble import RandomForestClassifier \n",
        "from sklearn.tree import DecisionTreeClassifier\n",
        "from sklearn.metrics import accuracy_score,classification_report as cr\n"
      ],
      "metadata": {
        "id": "2Y36mdO7JBCd"
      },
      "execution_count": 134,
      "outputs": []
    },
    {
      "cell_type": "code",
      "source": [
        "token = RegexpTokenizer(r'[a-zA-Z0-9]+')\n",
        "cv = CountVectorizer(stop_words='english',ngram_range = (1,1),tokenizer = token.tokenize)\n",
        "text_counts = cv.fit_transform(df['review'])"
      ],
      "metadata": {
        "id": "fKUOXPSXJBP7",
        "colab": {
          "base_uri": "https://localhost:8080/"
        },
        "outputId": "40632ab2-e9f7-4b4e-fd7c-31792fed6d71"
      },
      "execution_count": 121,
      "outputs": [
        {
          "output_type": "stream",
          "name": "stderr",
          "text": [
            "/usr/local/lib/python3.9/dist-packages/sklearn/feature_extraction/text.py:528: UserWarning: The parameter 'token_pattern' will not be used since 'tokenizer' is not None'\n",
            "  warnings.warn(\n"
          ]
        }
      ]
    },
    {
      "cell_type": "code",
      "source": [
        "X_train, X_test, Y_train, Y_test = train_test_split(text_counts, df['sentiment'], test_size=0.1, random_state=1)\n"
      ],
      "metadata": {
        "id": "6zdhAuvfJBdN"
      },
      "execution_count": 132,
      "outputs": []
    },
    {
      "cell_type": "markdown",
      "source": [
        "**LogisticRegression**"
      ],
      "metadata": {
        "id": "0YswwzIF-lkc"
      }
    },
    {
      "cell_type": "code",
      "source": [
        "LR = LogisticRegression()\n",
        "LR.fit(X_train, Y_train)\n",
        "# Prediction\n",
        "Y_predlr=LR.predict(X_test)\n",
        "score = accuracy_score(Y_test,Y_predlr)\n",
        "print(score)\n",
        "print(\"Logistic Regression model accuracy:\")\n",
        "print(cr(Y_test,Y_predlr))\n",
        "     "
      ],
      "metadata": {
        "colab": {
          "base_uri": "https://localhost:8080/"
        },
        "id": "BcsmCFGOPfdC",
        "outputId": "ac52ef3b-ecbd-4ae4-d5ae-67b246248bbf"
      },
      "execution_count": 135,
      "outputs": [
        {
          "output_type": "stream",
          "name": "stderr",
          "text": [
            "/usr/local/lib/python3.9/dist-packages/sklearn/linear_model/_logistic.py:458: ConvergenceWarning: lbfgs failed to converge (status=1):\n",
            "STOP: TOTAL NO. of ITERATIONS REACHED LIMIT.\n",
            "\n",
            "Increase the number of iterations (max_iter) or scale the data as shown in:\n",
            "    https://scikit-learn.org/stable/modules/preprocessing.html\n",
            "Please also refer to the documentation for alternative solver options:\n",
            "    https://scikit-learn.org/stable/modules/linear_model.html#logistic-regression\n",
            "  n_iter_i = _check_optimize_result(\n"
          ]
        },
        {
          "output_type": "stream",
          "name": "stdout",
          "text": [
            "0.887\n",
            "Logistic Regression model accuracy:\n",
            "              precision    recall  f1-score   support\n",
            "\n",
            "    negative       0.89      0.88      0.89      2534\n",
            "    positive       0.88      0.89      0.89      2466\n",
            "\n",
            "    accuracy                           0.89      5000\n",
            "   macro avg       0.89      0.89      0.89      5000\n",
            "weighted avg       0.89      0.89      0.89      5000\n",
            "\n"
          ]
        }
      ]
    },
    {
      "cell_type": "markdown",
      "source": [
        "***MULTINOMIALNaive Bayes***"
      ],
      "metadata": {
        "id": "8NrHwUY1-Qyf"
      }
    },
    {
      "cell_type": "code",
      "source": [
        "MNB = MultinomialNB()"
      ],
      "metadata": {
        "id": "qpqmBj14Ph-z"
      },
      "execution_count": 124,
      "outputs": []
    },
    {
      "cell_type": "code",
      "source": [
        "text_analysis_model = MultinomialNB().fit(X_train,Y_train)\n",
        "y_predmnb= text_analysis_model.predict(X_test)\n",
        "score = accuracy_score(Y_test,y_predmnb)\n",
        "\n",
        "print('score =',score)\n",
        "print(cr(Y_test,y_predmnb))"
      ],
      "metadata": {
        "colab": {
          "base_uri": "https://localhost:8080/"
        },
        "id": "zhlIqnwm8qdY",
        "outputId": "3bea6326-9943-4fb7-cee7-950890ada992"
      },
      "execution_count": 136,
      "outputs": [
        {
          "output_type": "stream",
          "name": "stdout",
          "text": [
            "score = 0.856\n",
            "              precision    recall  f1-score   support\n",
            "\n",
            "    negative       0.84      0.88      0.86      2534\n",
            "    positive       0.87      0.83      0.85      2466\n",
            "\n",
            "    accuracy                           0.86      5000\n",
            "   macro avg       0.86      0.86      0.86      5000\n",
            "weighted avg       0.86      0.86      0.86      5000\n",
            "\n"
          ]
        }
      ]
    },
    {
      "cell_type": "markdown",
      "source": [
        "***RANDOM FOREST CLASSIFIER***"
      ],
      "metadata": {
        "id": "BhdIBqZR-2UN"
      }
    },
    {
      "cell_type": "code",
      "source": [
        "RFC=RandomForestClassifier()\n",
        "RFC.fit(X_train, Y_train)\n",
        "predictedrfc = RFC.predict(X_test)\n",
        "accuracy_score1= precision_recall_fscore_support(predictedrfc, Y_test)\n",
        "print(\"Accuracuy Score: \",accuracy_score1)"
      ],
      "metadata": {
        "colab": {
          "base_uri": "https://localhost:8080/"
        },
        "id": "FHoI16jePiFl",
        "outputId": "9237ff1a-e1d8-4dda-c497-5188c0e45836"
      },
      "execution_count": 139,
      "outputs": [
        {
          "output_type": "stream",
          "name": "stdout",
          "text": [
            "Accuracuy Score:  (array([0.86385162, 0.85725872]), array([0.86147186, 0.85969906]), array([0.8626601 , 0.85847716]), array([2541, 2459]))\n"
          ]
        }
      ]
    },
    {
      "cell_type": "markdown",
      "source": [
        "***DECISION TREE CLASSIFIER***"
      ],
      "metadata": {
        "id": "dv-_N7AJClds"
      }
    },
    {
      "cell_type": "code",
      "source": [
        "Dc = DecisionTreeClassifier()\n",
        "Dc.fit(X_train, Y_train)    \n",
        "predicted3 = Dc.predict(X_test)\n",
        "accuracy_score2= precision_recall_fscore_support(predicted3, Y_test)\n",
        "print(\"Accuracuy Score: \",accuracy_score2)"
      ],
      "metadata": {
        "colab": {
          "base_uri": "https://localhost:8080/"
        },
        "id": "WV55Br1yCSkf",
        "outputId": "5a803e85-7c36-4d2a-f971-fd78838983aa"
      },
      "execution_count": 141,
      "outputs": [
        {
          "output_type": "stream",
          "name": "stdout",
          "text": [
            "Accuracuy Score:  (array([0.71862668, 0.74168694]), array([0.74084622, 0.7195122 ]), array([0.72956731, 0.73043131]), array([2458, 2542]))\n"
          ]
        }
      ]
    }
  ]
}